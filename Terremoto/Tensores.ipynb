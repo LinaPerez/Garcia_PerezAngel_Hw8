{
 "metadata": {
  "name": "",
  "signature": "sha256:9bf8874f90b0c75deda7965304c622f37ae14affb6dc33b9255e224f4c08fc06"
 },
 "nbformat": 3,
 "nbformat_minor": 0,
 "worksheets": [
  {
   "cells": [
    {
     "cell_type": "code",
     "collapsed": false,
     "input": [
      "%pylab inline\n",
      "import numpy as py\n",
      "from IPython.core.display import Image "
     ],
     "language": "python",
     "metadata": {},
     "outputs": [
      {
       "output_type": "stream",
       "stream": "stdout",
       "text": [
        "Populating the interactive namespace from numpy and matplotlib\n"
       ]
      },
      {
       "output_type": "stream",
       "stream": "stderr",
       "text": [
        "WARNING: pylab import has clobbered these variables: ['gamma']\n",
        "`%pylab --no-import-all` prevents importing * from pylab and numpy\n"
       ]
      }
     ],
     "prompt_number": 95
    },
    {
     "cell_type": "code",
     "collapsed": false,
     "input": [
      "datos = np.loadtxt('antofagasta.dat')"
     ],
     "language": "python",
     "metadata": {},
     "outputs": [],
     "prompt_number": 96
    },
    {
     "cell_type": "heading",
     "level": 5,
     "metadata": {},
     "source": [
      "1 Determinar el vector promedio para caracterizar la orientaci\u00f3n de todos los vectores. "
     ]
    },
    {
     "cell_type": "code",
     "collapsed": false,
     "input": [
      "u_este = datos[:,2]\n",
      "u_norte = datos[:,4]\n",
      "norma = []\n",
      "\n",
      "for i in range (len(datos)):\n",
      "    norma = np.sqrt(u_norte[:i]**2 + u_este[:i]**2)\n"
     ],
     "language": "python",
     "metadata": {},
     "outputs": [],
     "prompt_number": 97
    },
    {
     "cell_type": "code",
     "collapsed": false,
     "input": [
      "cos_alpha=[]\n",
      "cos_beta=[]\n",
      "for i in range(len(norma)):\n",
      "    cos_alpha = u_este[:i]/norma[:i]\n",
      "    cos_beta = u_norte[:i]/norma[:i]\n"
     ],
     "language": "python",
     "metadata": {},
     "outputs": [],
     "prompt_number": 98
    },
    {
     "cell_type": "code",
     "collapsed": false,
     "input": [
      "suma_alpha = sum(cos_alpha)\n",
      "suma_beta = sum(cos_beta)\n",
      "print suma_alpha, suma_beta"
     ],
     "language": "python",
     "metadata": {},
     "outputs": [
      {
       "output_type": "stream",
       "stream": "stdout",
       "text": [
        "-26.7144192419 -6.65406866788\n"
       ]
      }
     ],
     "prompt_number": 99
    },
    {
     "cell_type": "code",
     "collapsed": false,
     "input": [
      "r = np.sqrt(suma_alpha**2 + suma_beta**2)\n",
      "norma_r = r/(len(datos)-1)\n",
      "print norma_r"
     ],
     "language": "python",
     "metadata": {},
     "outputs": [
      {
       "output_type": "stream",
       "stream": "stdout",
       "text": [
        "0.917688415574\n"
       ]
      }
     ],
     "prompt_number": 100
    },
    {
     "cell_type": "code",
     "collapsed": false,
     "input": [
      "m=[]\n",
      "\n",
      "m.append(suma_alpha/r)\n",
      "m.append(suma_beta/r)\n",
      "print m"
     ],
     "language": "python",
     "metadata": {},
     "outputs": [
      {
       "output_type": "stream",
       "stream": "stdout",
       "text": [
        "[-0.97035183869128006, -0.24169672970160755]\n"
       ]
      }
     ],
     "prompt_number": 101
    },
    {
     "cell_type": "code",
     "collapsed": false,
     "input": [
      "r_vector = np.sqrt(m[0]**2+m[1]**2)\n",
      "tetha = np.arctan(m[1]/m[0])\n",
      "print r_vector, tetha"
     ],
     "language": "python",
     "metadata": {},
     "outputs": [
      {
       "output_type": "stream",
       "stream": "stdout",
       "text": [
        "1.0 0.244114042947\n"
       ]
      }
     ],
     "prompt_number": 102
    },
    {
     "cell_type": "heading",
     "level": 5,
     "metadata": {},
     "source": [
      "2 Determinar la matriz de transformaci\u00f3n en 2 dimensiones para un nuevo sistema de coordenadas donde el eje $X'1$ es paralelo a la direccion del vector promedio. \n",
      "\n",
      "$$ a_ij$$"
     ]
    },
    {
     "cell_type": "markdown",
     "metadata": {},
     "source": [
      "   $$ x' = x cos \\theta - y \\sin \\theta$$\n",
      "   $$ y' = x \\sin \\theta + y \\cos \\theta\\,. $$\n",
      "   \n",
      "   "
     ]
    },
    {
     "cell_type": "heading",
     "level": 5,
     "metadata": {},
     "source": [
      "3 Transformar las coordenadas Este y Norte y sus errores al nuevo sistema de coordenadas"
     ]
    },
    {
     "cell_type": "code",
     "collapsed": false,
     "input": [
      "u_este_nuevo=[]\n",
      "u_norte_nuevo=[]\n",
      "\n",
      "for i in range (len(datos)):\n",
      "    u_este_nuevo = (u_este[:i]*np.cos(tetha) - u_norte[:i]*np.sin(tetha))\n",
      "    u_norte_nuevo = (u_este[:i]*np.sin(tetha) + u_norte[:i]*np.cos(tetha))\n",
      "\n",
      "                    "
     ],
     "language": "python",
     "metadata": {},
     "outputs": [],
     "prompt_number": 103
    },
    {
     "cell_type": "code",
     "collapsed": false,
     "input": [
      "error_este = datos[:,3]\n",
      "error_norte = datos[:, 5]\n",
      "\n",
      "error_este_nuevo = []\n",
      "error_norte_nuevo = []\n",
      "\n",
      "for i in range (len(datos)):\n",
      "    error_este_nuevo = (error_este[:i]*np.cos(tetha) - error_norte[:i]*np.sin(tetha))\n",
      "    error_norte_nuevo = (error_este[:i]*np.sin(tetha) + error_norte[:i]*np.cos(tetha))\n"
     ],
     "language": "python",
     "metadata": {},
     "outputs": [],
     "prompt_number": 104
    },
    {
     "cell_type": "heading",
     "level": 5,
     "metadata": {},
     "source": [
      "Transformar la latitud y longitud al nuevo sistema de coordenadas"
     ]
    },
    {
     "cell_type": "code",
     "collapsed": false,
     "input": [
      "latitud = datos[:,1]\n",
      "longitud = datos[:,0]\n",
      "x = []\n",
      "y = []\n",
      "\n",
      "for i in range (len(datos)):\n",
      "    gamma = (latitud[:i]*-1)+90\n",
      "    x = 6371*np.sin(gamma[:i])*np.cos(longitud[:i])\n",
      "    y = 6371*np.sin(gamma[:i])*np.sin(longitud[:i])\n",
      "\n",
      "x_nuevo = []\n",
      "y_nuevo = []\n",
      "\n",
      "lat_nuevo=[]\n",
      "long_nuevo=[]\n",
      "\n",
      "for i in range (len(datos)):\n",
      "    x_nuevo = (x[:i]*np.cos(tetha) - y[:i]*np.sin(tetha))\n",
      "    y_nuevo = (x[:i]*np.sin(tetha) + y[:i]*np.cos(tetha))\n",
      "    \n",
      "#for i in range (len(datos)):\n",
      " #   lat_nuevo = (longitud[:i]*np.cos(tetha) - latitud[:i]*np.sin(tetha))\n",
      "  #  long_nuevo = (longitud[:i]*np.sin(tetha) + latitud[:i]*np.cos(tetha))\n",
      "    \n",
      "scatter(x, y)\n"
     ],
     "language": "python",
     "metadata": {},
     "outputs": [
      {
       "metadata": {},
       "output_type": "pyout",
       "prompt_number": 105,
       "text": [
        "<matplotlib.collections.PathCollection at 0x60c5290>"
       ]
      },
      {
       "metadata": {},
       "output_type": "display_data",
       "png": "[encoded data removed]",
       "text": [
        "<matplotlib.figure.Figure at 0x6098b10>"
       ]
      }
     ],
     "prompt_number": 105
    },
    {
     "cell_type": "code",
     "collapsed": false,
     "input": [
      "scatter (x_nuevo, y_nuevo)\n"
     ],
     "language": "python",
     "metadata": {},
     "outputs": [
      {
       "metadata": {},
       "output_type": "pyout",
       "prompt_number": 106,
       "text": [
        "<matplotlib.collections.PathCollection at 0x5ef5e10>"
       ]
      },
      {
       "metadata": {},
       "output_type": "display_data",
       "png": "[encoded data removed]",
       "text": [
        "<matplotlib.figure.Figure at 0x5a86b50>"
       ]
      }
     ],
     "prompt_number": 106
    },
    {
     "cell_type": "heading",
     "level": 5,
     "metadata": {},
     "source": [
      "\n",
      "4 Graficar $u'$ de cada vector de desplazamiento y su error vs. la posicion $x'$ de la estacion GPS"
     ]
    },
    {
     "cell_type": "code",
     "collapsed": false,
     "input": [
      "subplot(121)\n",
      "scatter(u_norte_nuevo, x_nuevo)\n",
      "subplot(122)\n",
      "scatter(u_norte_nuevo, y_nuevo)\n"
     ],
     "language": "python",
     "metadata": {},
     "outputs": [
      {
       "metadata": {},
       "output_type": "pyout",
       "prompt_number": 107,
       "text": [
        "<matplotlib.collections.PathCollection at 0x64772d0>"
       ]
      },
      {
       "metadata": {},
       "output_type": "display_data",
       "png": "[encoded data removed]",
       "text": [
        "<matplotlib.figure.Figure at 0x5ef9910>"
       ]
      }
     ],
     "prompt_number": 107
    },
    {
     "cell_type": "code",
     "collapsed": false,
     "input": [
      "subplot(121)\n",
      "scatter(u_este_nuevo, x_nuevo)\n",
      "subplot(122)\n",
      "scatter(u_este_nuevo, y_nuevo)"
     ],
     "language": "python",
     "metadata": {},
     "outputs": [
      {
       "metadata": {},
       "output_type": "pyout",
       "prompt_number": 108,
       "text": [
        "<matplotlib.collections.PathCollection at 0x53cfb90>"
       ]
      },
      {
       "metadata": {},
       "output_type": "display_data",
       "png": "[encoded data removed]",
       "text": [
        "<matplotlib.figure.Figure at 0x6631d50>"
       ]
      }
     ],
     "prompt_number": 108
    },
    {
     "cell_type": "markdown",
     "metadata": {},
     "source": [
      "Pero como todas las estaciones no da una linea recta (una regresion lineal) toca escoger segmentos de estaciones para que nos de una linea recta.\n",
      "ejemplo: encontrar tres estaciones que nos de una regresion lineal."
     ]
    },
    {
     "cell_type": "code",
     "collapsed": false,
     "input": [
      "\n",
      "radios = []\n",
      "a = x_nuevo[0]\n",
      "b = y_nuevo[0]\n",
      "\n",
      "\n",
      "distancia = np.sqrt((a - x_nuevo[:i])**2 + (b - y_nuevo[:i])**2) \n",
      "\n",
      "     \n",
      "tres = sort(distancia)\n",
      "print tres\n",
      "\n",
      "\n",
      "    \n",
      "      \n",
      "  "
     ],
     "language": "python",
     "metadata": {},
     "outputs": [
      {
       "output_type": "stream",
       "stream": "stdout",
       "text": [
        "[    0.           404.67642634   696.80074803   905.07809256  1048.8657202\n",
        "  1316.12838003  1323.27803523  1745.85632852  1870.47644749  2002.53525319\n",
        "  2123.49575986  2443.27973195  2475.45526136  2618.85228238  2896.46559304\n",
        "  3164.27169705  3209.95351467  3481.54335845  3667.93123638  3716.26491812\n",
        "  4382.66954254  4448.49198685  5236.78304357  5300.66124704  5362.65843678\n",
        "  5867.65271981  6521.24924575  7077.52364175  7438.5492292   8155.12046177]\n"
       ]
      }
     ],
     "prompt_number": 159
    },
    {
     "cell_type": "code",
     "collapsed": false,
     "input": [
      "tres = tres[1:]\n",
      "print tres"
     ],
     "language": "python",
     "metadata": {},
     "outputs": [
      {
       "output_type": "stream",
       "stream": "stdout",
       "text": [
        "[  404.67642634   696.80074803   905.07809256  1048.8657202   1316.12838003\n",
        "  1323.27803523  1745.85632852  1870.47644749  2002.53525319  2123.49575986\n",
        "  2443.27973195  2475.45526136  2618.85228238  2896.46559304  3164.27169705\n",
        "  3209.95351467  3481.54335845  3667.93123638  3716.26491812  4382.66954254\n",
        "  4448.49198685  5236.78304357  5300.66124704  5362.65843678  5867.65271981\n",
        "  6521.24924575  7077.52364175  7438.5492292   8155.12046177]\n"
       ]
      }
     ],
     "prompt_number": 160
    },
    {
     "cell_type": "heading",
     "level": 1,
     "metadata": {},
     "source": [
      "Ahora no se como saber que x_nuevo y que y_nuevo generaron las dos distancias mas cortas!! :("
     ]
    },
    {
     "cell_type": "heading",
     "level": 5,
     "metadata": {},
     "source": [
      "5 Hacer un fit lineal (regresion lineal) y sacar la pendiente de cada grafica. "
     ]
    },
    {
     "cell_type": "heading",
     "level": 5,
     "metadata": {},
     "source": [
      "6 esas pendientes van a ser las deformaciones cosismicas $e_ij$ ahora hay que hacer la matriz transpuesta para tener $e_ji$"
     ]
    },
    {
     "cell_type": "heading",
     "level": 5,
     "metadata": {},
     "source": [
      "7 Sacar el tensor simetrico $$\u03b5_ij=1/2(e_ij+e_ji)$$"
     ]
    },
    {
     "cell_type": "heading",
     "level": 5,
     "metadata": {},
     "source": [
      "8 sacarle el autovector y autovalor a el tensor simetrico"
     ]
    },
    {
     "cell_type": "heading",
     "level": 5,
     "metadata": {},
     "source": [
      "9 graficar "
     ]
    },
    {
     "cell_type": "code",
     "collapsed": false,
     "input": [],
     "language": "python",
     "metadata": {},
     "outputs": []
    }
   ],
   "metadata": {}
  }
 ]
}