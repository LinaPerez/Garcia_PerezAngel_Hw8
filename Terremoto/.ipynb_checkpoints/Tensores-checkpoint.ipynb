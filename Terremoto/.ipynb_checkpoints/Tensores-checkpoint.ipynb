{
 "metadata": {
  "name": "",
  "signature": "sha256:3a73c5a71c132b3e366be6fd3cebbfa8e30709bc9dbf304e316701eae9d87175"
 },
 "nbformat": 3,
 "nbformat_minor": 0,
 "worksheets": [
  {
   "cells": [
    {
     "cell_type": "code",
     "collapsed": false,
     "input": [
      "%pylab inline\n",
      "import numpy as py\n",
      "from IPython.core.display import Image "
     ],
     "language": "python",
     "metadata": {},
     "outputs": [
      {
       "output_type": "stream",
       "stream": "stdout",
       "text": [
        "Populating the interactive namespace from numpy and matplotlib\n"
       ]
      }
     ],
     "prompt_number": 19
    },
    {
     "cell_type": "code",
     "collapsed": false,
     "input": [
      "datos = np.loadtxt('antofagasta.dat')"
     ],
     "language": "python",
     "metadata": {},
     "outputs": [],
     "prompt_number": 20
    },
    {
     "cell_type": "heading",
     "level": 5,
     "metadata": {},
     "source": [
      "1 Determinar el vector promedio para caracterizar la orientaci\u00f3n de todos los vectores. "
     ]
    },
    {
     "cell_type": "code",
     "collapsed": false,
     "input": [
      "u_este = datos[:,2]\n",
      "u_norte = datos[:,4]\n",
      "norma = []\n",
      "\n",
      "for i in range (len(datos)):\n",
      "    norma = np.sqrt(u_norte[:i]**2 + u_este[:i]**2)\n",
      "print norma"
     ],
     "language": "python",
     "metadata": {},
     "outputs": [
      {
       "output_type": "stream",
       "stream": "stdout",
       "text": [
        "[ 0.53334135  0.89777113  0.1490302   0.88648745  0.17149344  0.80412188\n",
        "  0.77033499  0.60800329  0.57580639  0.86133037  0.47381536  0.31461723\n",
        "  0.38263298  0.1467106   0.2299152   0.0943027   0.12224974  0.13767353\n",
        "  0.07877182  0.0537122   0.08928606  0.017       0.04909175  0.04522168\n",
        "  0.02193171  0.0509902   0.03006659  0.01220656  0.03649658  0.01523155]\n"
       ]
      }
     ],
     "prompt_number": 21
    },
    {
     "cell_type": "code",
     "collapsed": false,
     "input": [
      "cos_alpha=[]\n",
      "cos_beta=[]\n",
      "for i in range(len(norma)):\n",
      "    cos_alpha = u_este[:i]/norma[:i]\n",
      "    cos_beta = u_norte[:i]/norma[:i]\n",
      "print cos_alpha, cos_beta"
     ],
     "language": "python",
     "metadata": {},
     "outputs": [
      {
       "output_type": "stream",
       "stream": "stdout",
       "text": [
        "[-0.98811014 -0.94901693 -0.99979737 -0.93853556 -0.97379818 -0.94015599\n",
        " -0.94763967 -0.9243371  -0.91523819 -0.9880065  -0.9075265  -0.92175499\n",
        " -0.99834572 -0.88609821 -0.9525251  -0.82712368 -0.97341717 -0.98058068\n",
        " -0.93942222 -0.91226953 -0.9631963  -0.47058824 -0.99813103 -0.95087143\n",
        " -0.68394113 -0.98058068 -0.99778516 -0.81923192 -0.98639392] [-0.15374769 -0.31522511  0.02013015 -0.34518255 -0.22741395 -0.34074437\n",
        " -0.31934159 -0.38157688 -0.40291321 -0.1544123  -0.41999482 -0.38777279\n",
        "  0.05749635  0.46349753 -0.30446008 -0.56201994 -0.22903933  0.19611614\n",
        " -0.34276216 -0.4095904   0.26879897 -0.88235294 -0.06111006  0.30958605\n",
        " -0.7295372  -0.19611614 -0.06651901 -0.57346234 -0.16439899]\n"
       ]
      }
     ],
     "prompt_number": 22
    },
    {
     "cell_type": "code",
     "collapsed": false,
     "input": [
      "suma_alpha = sum(cos_alpha)\n",
      "suma_beta = sum(cos_beta)\n",
      "print suma_alpha, suma_beta"
     ],
     "language": "python",
     "metadata": {},
     "outputs": [
      {
       "output_type": "stream",
       "stream": "stdout",
       "text": [
        "-26.7144192419 -6.65406866788\n"
       ]
      }
     ],
     "prompt_number": 23
    },
    {
     "cell_type": "code",
     "collapsed": false,
     "input": [
      "r = np.sqrt(suma_alpha**2 + suma_beta**2)\n",
      "norma_r = r/(len(datos)-1)\n",
      "print norma_r"
     ],
     "language": "python",
     "metadata": {},
     "outputs": [
      {
       "output_type": "stream",
       "stream": "stdout",
       "text": [
        "0.917688415574\n"
       ]
      }
     ],
     "prompt_number": 24
    },
    {
     "cell_type": "code",
     "collapsed": false,
     "input": [
      "m=[]\n",
      "\n",
      "m.append(suma_alpha/r)\n",
      "m.append(suma_beta/r)\n",
      "print m"
     ],
     "language": "python",
     "metadata": {},
     "outputs": [
      {
       "output_type": "stream",
       "stream": "stdout",
       "text": [
        "[-0.97035183869128006, -0.24169672970160755]\n"
       ]
      }
     ],
     "prompt_number": 25
    },
    {
     "cell_type": "code",
     "collapsed": false,
     "input": [
      "r_vector = np.sqrt(m[0]**2+m[1]**2)\n",
      "tetha = np.arctan(m[1]/m[0])\n",
      "print r_vector, tetha"
     ],
     "language": "python",
     "metadata": {},
     "outputs": [
      {
       "output_type": "stream",
       "stream": "stdout",
       "text": [
        "1.0 0.244114042947\n"
       ]
      }
     ],
     "prompt_number": 26
    },
    {
     "cell_type": "heading",
     "level": 5,
     "metadata": {},
     "source": [
      "2 Determinar la matriz de transformaci\u00f3n en 2 dimensiones para un nuevo sistema de coordenadas donde el eje $X'1$ es paralelo a la direccion del vector promedio. \n",
      "\n",
      "$$ a_ij$$"
     ]
    },
    {
     "cell_type": "markdown",
     "metadata": {},
     "source": [
      "   $$ x' = x cos \\theta - y \\sin \\theta$$\n",
      "   $$ y' = x \\sin \\theta + y \\cos \\theta\\,. $$\n",
      "   \n",
      "   "
     ]
    },
    {
     "cell_type": "heading",
     "level": 5,
     "metadata": {},
     "source": [
      "3 Transformar las coordenadas Este y Norte y sus errores al nuevo sistema de coordenadas"
     ]
    },
    {
     "cell_type": "code",
     "collapsed": false,
     "input": [
      "u_este_nuevo=[]\n",
      "u_norte_nuevo=[]\n",
      "\n",
      "for i in range (len(datos)):\n",
      "    u_este_nuevo = (u_este[:i]*np.cos(tetha) - u_norte[:i]*np.sin(tetha))\n",
      "    u_norte_nuevo = (u_este[:i]*np.sin(tetha) + u_norte[:i]*np.cos(tetha))\n",
      "print u_este_nuevo, u_norte_nuevo\n",
      "                    "
     ],
     "language": "python",
     "metadata": {},
     "outputs": [
      {
       "output_type": "stream",
       "stream": "stdout",
       "text": [
        "[-0.49155629 -0.75833959 -0.14530751 -0.73337353 -0.15262258 -0.66736109\n",
        " -0.64889945 -0.48926409 -0.45530178 -0.79362375 -0.36915364 -0.25191503\n",
        " -0.37599173 -0.14258112 -0.19558828 -0.06287752 -0.10870436 -0.13752331\n",
        " -0.06528022 -0.04222991 -0.08925098 -0.00413736 -0.04682215 -0.04510888\n",
        " -0.01068813 -0.04610062 -0.02862716 -0.00801164 -0.03348249 -0.01503511] [-0.20694303 -0.48053518 -0.03310176 -0.49801934 -0.07820708 -0.44859913\n",
        " -0.41514517 -0.36095519 -0.3524958  -0.33474071 -0.29702961 -0.18847498\n",
        " -0.07098041  0.03456335 -0.12085621 -0.07028099 -0.05593176 -0.00642956\n",
        " -0.04408506 -0.03319088  0.00250253 -0.01648885 -0.0147542   0.00319197\n",
        " -0.01915108 -0.02178835 -0.00919161 -0.00920943 -0.01452319  0.00243836]\n"
       ]
      }
     ],
     "prompt_number": 27
    },
    {
     "cell_type": "code",
     "collapsed": false,
     "input": [
      "error_este = datos[:,3]\n",
      "error_norte = datos[:, 5]\n",
      "\n",
      "error_este_nuevo = []\n",
      "error_norte_nuevo = []\n",
      "\n",
      "for i in range (len(datos)):\n",
      "    error_este_nuevo = (error_este[:i]*np.cos(tetha) - error_norte[:i]*np.sin(tetha))\n",
      "    error_norte_nuevo = (error_este[:i]*np.sin(tetha) + error_norte[:i]*np.cos(tetha))\n",
      "print error_este_nuevo, error_norte_nuevo\n",
      "\n"
     ],
     "language": "python",
     "metadata": {},
     "outputs": [
      {
       "output_type": "stream",
       "stream": "stdout",
       "text": [
        "[ 0.00184616  0.0019432   0.0019432   0.00240421  0.00184616  0.00184616\n",
        "  0.00267007  0.00728655  0.0019432   0.00184616  0.00184616  0.00184616\n",
        "  0.00204023  0.0019432   0.00213727  0.0019432   0.00184616  0.00184616\n",
        "  0.0019432   0.00184616  0.00728655  0.00213727  0.00318049  0.00167626\n",
        "  0.00204023  0.00213727  0.00184616  0.00184616  0.00184616  0.00184616] [ 0.0033454   0.00336957  0.00336957  0.00358745  0.0033454   0.0033454\n",
        "  0.00252006  0.01212049  0.00336957  0.0033454   0.0033454   0.0033454\n",
        "  0.00339374  0.00336957  0.00341791  0.00336957  0.0033454   0.0033454\n",
        "  0.00336957  0.0033454   0.01212049  0.00341791  0.00378081  0.00320002\n",
        "  0.00339374  0.00341791  0.0033454   0.0033454   0.0033454   0.0033454 ]\n"
       ]
      }
     ],
     "prompt_number": 28
    },
    {
     "cell_type": "heading",
     "level": 5,
     "metadata": {},
     "source": [
      "Transformar la latitud y longitud al nuevo sistema de coordenadas"
     ]
    },
    {
     "cell_type": "code",
     "collapsed": false,
     "input": [
      "latitud = datos[:,0]\n",
      "longitud = datos[:,1]\n",
      "x = []\n",
      "y = []\n",
      "\n",
      "for i in range (len(datos)):\n",
      "    gamma = (latitud[:i]*-1)+90\n",
      "    x = 6371*np.sin(gamma[:i])*np.cos(longitud[:i])\n",
      "    y = 6371*np.sin(gamma[:i])*np.sin(longitud[:i])\n",
      "\n",
      "x_nuevo = []\n",
      "y_nuevo = []\n",
      "\n",
      "\n",
      "for i in range (len(datos)):\n",
      "    x_nuevo = (x[:i]*np.cos(tetha) - y[:i]*np.sin(tetha))\n",
      "    y_nuevo = (x[:i]*np.sin(tetha) + y[:i]*np.cos(tetha))\n",
      "print x_nuevo, y_nuevo"
     ],
     "language": "python",
     "metadata": {},
     "outputs": [
      {
       "output_type": "stream",
       "stream": "stdout",
       "text": [
        "[  561.84697773  -861.38715165 -1588.14790555    63.23961358   702.34935788\n",
        "   130.61668993   159.02577802   295.08770071   110.96360541   -31.84118839\n",
        "  -428.70117937 -1215.06296352  1083.05831387  3204.10391228 -1609.59900652\n",
        " -3919.27264332 -1560.09242231  2518.54294083 -1606.85795154 -3727.96482214\n",
        "  2725.92595282 -5520.10435818 -1004.42792683  3575.87922821 -4196.11769163\n",
        "  -631.92409551 -2424.59846852 -3431.52336365   331.37136383  -830.94376523] [-1953.77636407 -1747.4465955   -728.00162004 -1579.70644405 -1013.47504625\n",
        " -1251.24637321 -1153.34102495 -1100.33173903  -357.42677648  -199.86789474\n",
        "  1145.81848738  2427.86555254  3513.82401459  1976.87840873  4302.13993233\n",
        "  3239.87896541  5680.88550732  5639.95889042  6163.91580998  5123.56157989\n",
        "  5672.19348177  2844.31784972  5994.47767295  4772.93663154  3761.0593182\n",
        "  5240.19739375  4224.71706577  2848.21392358  3984.18679017  3073.91074201]\n"
       ]
      }
     ],
     "prompt_number": 29
    },
    {
     "cell_type": "heading",
     "level": 5,
     "metadata": {},
     "source": [
      "\n",
      "4 Graficar $u'$ de cada vector de desplazamiento y su error vs. la posicion $x'$ de la estacion GPS"
     ]
    },
    {
     "cell_type": "code",
     "collapsed": false,
     "input": [
      "subplot(121)\n",
      "scatter(u_norte_nuevo, x_nuevo)\n",
      "subplot(122)\n",
      "scatter(u_norte_nuevo, y_nuevo)\n"
     ],
     "language": "python",
     "metadata": {},
     "outputs": [
      {
       "metadata": {},
       "output_type": "pyout",
       "prompt_number": 42,
       "text": [
        "<matplotlib.collections.PathCollection at 0x4bc2650>"
       ]
      },
      {
       "metadata": {},
       "output_type": "display_data",
       "png": "[encoded data removed]",
       "text": [
        "<matplotlib.figure.Figure at 0x39a2450>"
       ]
      }
     ],
     "prompt_number": 42
    },
    {
     "cell_type": "code",
     "collapsed": false,
     "input": [
      "subplot(121)\n",
      "scatter(u_este_nuevo, x_nuevo)\n",
      "subplot(122)\n",
      "scatter(u_este_nuevo, y_nuevo)"
     ],
     "language": "python",
     "metadata": {},
     "outputs": [
      {
       "metadata": {},
       "output_type": "pyout",
       "prompt_number": 43,
       "text": [
        "<matplotlib.collections.PathCollection at 0x4f91ad0>"
       ]
      },
      {
       "metadata": {},
       "output_type": "display_data",
       "png": "[encoded data removed]",
       "text": [
        "<matplotlib.figure.Figure at 0x4d27350>"
       ]
      }
     ],
     "prompt_number": 43
    },
    {
     "cell_type": "markdown",
     "metadata": {},
     "source": [
      "Pero como todas las estaciones no da una linea recta (una regresion lineal) toca escoger segmentos de estaciones para que nos de una linea recta.\n",
      "ejemplo: encontrar tres estaciones que nos de una regresion lineal."
     ]
    },
    {
     "cell_type": "code",
     "collapsed": false,
     "input": [
      "radios = []\n",
      "\n"
     ],
     "language": "python",
     "metadata": {},
     "outputs": []
    },
    {
     "cell_type": "heading",
     "level": 5,
     "metadata": {},
     "source": [
      "5 Hacer un fit lineal (regresion lineal) en los segmentos que son aproximadamente lineales de la curva resultante"
     ]
    },
    {
     "cell_type": "heading",
     "level": 5,
     "metadata": {},
     "source": [
      "6 Calcular la deformacion cosismica . para esto toca hacerlo en cada segmento lineal de la curva resultante"
     ]
    },
    {
     "cell_type": "heading",
     "level": 5,
     "metadata": {},
     "source": [
      "7 Sacar los autovectores y autovalores de esta deformacion "
     ]
    },
    {
     "cell_type": "code",
     "collapsed": false,
     "input": [],
     "language": "python",
     "metadata": {},
     "outputs": [],
     "prompt_number": 30
    },
    {
     "cell_type": "code",
     "collapsed": false,
     "input": [],
     "language": "python",
     "metadata": {},
     "outputs": []
    }
   ],
   "metadata": {}
  }
 ]
}